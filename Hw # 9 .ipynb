{
 "cells": [
  {
   "cell_type": "markdown",
   "metadata": {},
   "source": [
    "# Zade Alfalah Astr 3800 HW #9\n",
    "# Question 1"
   ]
  },
  {
   "cell_type": "code",
   "execution_count": 1,
   "metadata": {},
   "outputs": [],
   "source": [
    "import numpy as np\n",
    "import pandas as pd"
   ]
  },
  {
   "cell_type": "code",
   "execution_count": 62,
   "metadata": {},
   "outputs": [
    {
     "data": {
      "text/html": [
       "<div>\n",
       "<style scoped>\n",
       "    .dataframe tbody tr th:only-of-type {\n",
       "        vertical-align: middle;\n",
       "    }\n",
       "\n",
       "    .dataframe tbody tr th {\n",
       "        vertical-align: top;\n",
       "    }\n",
       "\n",
       "    .dataframe thead th {\n",
       "        text-align: right;\n",
       "    }\n",
       "</style>\n",
       "<table border=\"1\" class=\"dataframe\">\n",
       "  <thead>\n",
       "    <tr style=\"text-align: right;\">\n",
       "      <th></th>\n",
       "      <th>Values</th>\n",
       "    </tr>\n",
       "  </thead>\n",
       "  <tbody>\n",
       "    <tr>\n",
       "      <th>0</th>\n",
       "      <td>46</td>\n",
       "    </tr>\n",
       "    <tr>\n",
       "      <th>1</th>\n",
       "      <td>48</td>\n",
       "    </tr>\n",
       "    <tr>\n",
       "      <th>2</th>\n",
       "      <td>44</td>\n",
       "    </tr>\n",
       "    <tr>\n",
       "      <th>3</th>\n",
       "      <td>38</td>\n",
       "    </tr>\n",
       "    <tr>\n",
       "      <th>4</th>\n",
       "      <td>45</td>\n",
       "    </tr>\n",
       "  </tbody>\n",
       "</table>\n",
       "</div>"
      ],
      "text/plain": [
       "   Values\n",
       "0      46\n",
       "1      48\n",
       "2      44\n",
       "3      38\n",
       "4      45"
      ]
     },
     "execution_count": 62,
     "metadata": {},
     "output_type": "execute_result"
    }
   ],
   "source": [
    "d = {'Values' : [46, 48, 44, 38, 45, 47, 58, 44, 45, 43]}\n",
    "d1 = pd.DataFrame(data = d)\n",
    "d1.head()"
   ]
  },
  {
   "cell_type": "code",
   "execution_count": 3,
   "metadata": {},
   "outputs": [],
   "source": [
    "a = (46, 48, 44, 38, 45, 47, 58, 44, 45, 43)\n",
    "a = np.asarray(a)"
   ]
  },
  {
   "cell_type": "markdown",
   "metadata": {},
   "source": [
    "Z score is signed fraction number of std by which a value is away from the mean value.  \n",
    "z = (x-u)/sigma"
   ]
  },
  {
   "cell_type": "code",
   "execution_count": 17,
   "metadata": {},
   "outputs": [],
   "source": [
    "#For numpy arrays\n",
    "def zscore(array):\n",
    "    array = np.asarray(array) #turns whatever into an array\n",
    "    m = array.mean() #finds the mean of the array\n",
    "    s = array.std() #finds the std of the array\n",
    "    bucket = [] #empty list to toss stuff into\n",
    "    for element in array: #loop over all of my values\n",
    "        num = element - m\n",
    "        bucket.append(num/s) #find the Z score and put it into my bucket\n",
    "    return np.asarray(bucket) #give my filled list as an array"
   ]
  },
  {
   "cell_type": "code",
   "execution_count": 72,
   "metadata": {},
   "outputs": [],
   "source": [
    "#nicer with pandas, does same as above but keeps it in a table\n",
    "def dfzscore(df):\n",
    "    m = df.mean()\n",
    "    s = df.std()\n",
    "    bucket = []\n",
    "    for i in np.arange(df.shape[0]):\n",
    "        num = df.Values[i] - m\n",
    "        z = num/s\n",
    "        bucket.append(z)\n",
    "    bucket = np.asarray(bucket)\n",
    "    df['zscore'] = bucket\n",
    "    return df"
   ]
  },
  {
   "cell_type": "code",
   "execution_count": 18,
   "metadata": {},
   "outputs": [
    {
     "data": {
      "text/plain": [
       "array([-1.62078469,  2.53507349])"
      ]
     },
     "execution_count": 18,
     "metadata": {},
     "output_type": "execute_result"
    }
   ],
   "source": [
    "zlist = zscore(a) #give variable to our Z scores list\n",
    "zlist = zlist[(zlist >1.5)|(zlist <-1.5)]#select for Z > abs(1.5sigma)\n",
    "zlist"
   ]
  },
  {
   "cell_type": "code",
   "execution_count": 77,
   "metadata": {},
   "outputs": [
    {
     "data": {
      "text/html": [
       "<div>\n",
       "<style scoped>\n",
       "    .dataframe tbody tr th:only-of-type {\n",
       "        vertical-align: middle;\n",
       "    }\n",
       "\n",
       "    .dataframe tbody tr th {\n",
       "        vertical-align: top;\n",
       "    }\n",
       "\n",
       "    .dataframe thead th {\n",
       "        text-align: right;\n",
       "    }\n",
       "</style>\n",
       "<table border=\"1\" class=\"dataframe\">\n",
       "  <thead>\n",
       "    <tr style=\"text-align: right;\">\n",
       "      <th></th>\n",
       "      <th>Values</th>\n",
       "      <th>zscore</th>\n",
       "    </tr>\n",
       "  </thead>\n",
       "  <tbody>\n",
       "    <tr>\n",
       "      <th>0</th>\n",
       "      <td>46</td>\n",
       "      <td>NaN</td>\n",
       "    </tr>\n",
       "    <tr>\n",
       "      <th>1</th>\n",
       "      <td>48</td>\n",
       "      <td>NaN</td>\n",
       "    </tr>\n",
       "    <tr>\n",
       "      <th>2</th>\n",
       "      <td>44</td>\n",
       "      <td>NaN</td>\n",
       "    </tr>\n",
       "    <tr>\n",
       "      <th>3</th>\n",
       "      <td>38</td>\n",
       "      <td>-1.537611</td>\n",
       "    </tr>\n",
       "    <tr>\n",
       "      <th>4</th>\n",
       "      <td>45</td>\n",
       "      <td>NaN</td>\n",
       "    </tr>\n",
       "    <tr>\n",
       "      <th>5</th>\n",
       "      <td>47</td>\n",
       "      <td>NaN</td>\n",
       "    </tr>\n",
       "    <tr>\n",
       "      <th>6</th>\n",
       "      <td>58</td>\n",
       "      <td>2.404982</td>\n",
       "    </tr>\n",
       "    <tr>\n",
       "      <th>7</th>\n",
       "      <td>44</td>\n",
       "      <td>NaN</td>\n",
       "    </tr>\n",
       "    <tr>\n",
       "      <th>8</th>\n",
       "      <td>45</td>\n",
       "      <td>NaN</td>\n",
       "    </tr>\n",
       "    <tr>\n",
       "      <th>9</th>\n",
       "      <td>43</td>\n",
       "      <td>NaN</td>\n",
       "    </tr>\n",
       "  </tbody>\n",
       "</table>\n",
       "</div>"
      ],
      "text/plain": [
       "   Values    zscore\n",
       "0      46       NaN\n",
       "1      48       NaN\n",
       "2      44       NaN\n",
       "3      38 -1.537611\n",
       "4      45       NaN\n",
       "5      47       NaN\n",
       "6      58  2.404982\n",
       "7      44       NaN\n",
       "8      45       NaN\n",
       "9      43       NaN"
      ]
     },
     "execution_count": 77,
     "metadata": {},
     "output_type": "execute_result"
    }
   ],
   "source": [
    "zscores = dfzscore(d1) #give variable to our zscores df\n",
    "zscores[(zscores > 1.5) | (zscores <-1.5)] #select for Z > abs(1.5sigma)"
   ]
  },
  {
   "cell_type": "markdown",
   "metadata": {},
   "source": [
    "Assuming that we want our cutoff to be at 1.5sigma we must remove both 38 and 58 as outliers from our data. Can change cutoff later."
   ]
  },
  {
   "cell_type": "code",
   "execution_count": 82,
   "metadata": {},
   "outputs": [
    {
     "data": {
      "text/html": [
       "<div>\n",
       "<style scoped>\n",
       "    .dataframe tbody tr th:only-of-type {\n",
       "        vertical-align: middle;\n",
       "    }\n",
       "\n",
       "    .dataframe tbody tr th {\n",
       "        vertical-align: top;\n",
       "    }\n",
       "\n",
       "    .dataframe thead th {\n",
       "        text-align: right;\n",
       "    }\n",
       "</style>\n",
       "<table border=\"1\" class=\"dataframe\">\n",
       "  <thead>\n",
       "    <tr style=\"text-align: right;\">\n",
       "      <th></th>\n",
       "      <th>Values</th>\n",
       "      <th>zscore</th>\n",
       "    </tr>\n",
       "  </thead>\n",
       "  <tbody>\n",
       "    <tr>\n",
       "      <th>0</th>\n",
       "      <td>46</td>\n",
       "      <td>0.039426</td>\n",
       "    </tr>\n",
       "    <tr>\n",
       "      <th>1</th>\n",
       "      <td>48</td>\n",
       "      <td>0.433685</td>\n",
       "    </tr>\n",
       "    <tr>\n",
       "      <th>2</th>\n",
       "      <td>44</td>\n",
       "      <td>-0.354833</td>\n",
       "    </tr>\n",
       "    <tr>\n",
       "      <th>4</th>\n",
       "      <td>45</td>\n",
       "      <td>-0.157704</td>\n",
       "    </tr>\n",
       "    <tr>\n",
       "      <th>5</th>\n",
       "      <td>47</td>\n",
       "      <td>0.236556</td>\n",
       "    </tr>\n",
       "    <tr>\n",
       "      <th>7</th>\n",
       "      <td>44</td>\n",
       "      <td>-0.354833</td>\n",
       "    </tr>\n",
       "    <tr>\n",
       "      <th>8</th>\n",
       "      <td>45</td>\n",
       "      <td>-0.157704</td>\n",
       "    </tr>\n",
       "    <tr>\n",
       "      <th>9</th>\n",
       "      <td>43</td>\n",
       "      <td>-0.551963</td>\n",
       "    </tr>\n",
       "  </tbody>\n",
       "</table>\n",
       "</div>"
      ],
      "text/plain": [
       "   Values    zscore\n",
       "0      46  0.039426\n",
       "1      48  0.433685\n",
       "2      44 -0.354833\n",
       "4      45 -0.157704\n",
       "5      47  0.236556\n",
       "7      44 -0.354833\n",
       "8      45 -0.157704\n",
       "9      43 -0.551963"
      ]
     },
     "execution_count": 82,
     "metadata": {},
     "output_type": "execute_result"
    }
   ],
   "source": [
    "zscores.drop([3,6]) #with dropped z>abs(1.5sigma)"
   ]
  },
  {
   "cell_type": "code",
   "execution_count": 85,
   "metadata": {},
   "outputs": [
    {
     "name": "stdout",
     "output_type": "stream",
     "text": [
      "The mean value for our data, excluding outliers, is 45.8, with a standard deviation of 5.1\n"
     ]
    }
   ],
   "source": [
    "#now we can do analysis\n",
    "print(f\"The mean value for our data, excluding outliers, is {zscores.Values.mean()}, with a standard deviation of {zscores.Values.std():.1f}\")"
   ]
  },
  {
   "cell_type": "markdown",
   "metadata": {},
   "source": [
    "# Question 2"
   ]
  },
  {
   "cell_type": "markdown",
   "metadata": {},
   "source": [
    "Weighted stuff pgs 173-176 of taylor"
   ]
  },
  {
   "cell_type": "code",
   "execution_count": 230,
   "metadata": {},
   "outputs": [
    {
     "data": {
      "text/html": [
       "<div>\n",
       "<style scoped>\n",
       "    .dataframe tbody tr th:only-of-type {\n",
       "        vertical-align: middle;\n",
       "    }\n",
       "\n",
       "    .dataframe tbody tr th {\n",
       "        vertical-align: top;\n",
       "    }\n",
       "\n",
       "    .dataframe thead th {\n",
       "        text-align: right;\n",
       "    }\n",
       "</style>\n",
       "<table border=\"1\" class=\"dataframe\">\n",
       "  <thead>\n",
       "    <tr style=\"text-align: right;\">\n",
       "      <th></th>\n",
       "      <th>Means</th>\n",
       "      <th>Uncertainties</th>\n",
       "    </tr>\n",
       "  </thead>\n",
       "  <tbody>\n",
       "    <tr>\n",
       "      <th>0</th>\n",
       "      <td>14.6</td>\n",
       "      <td>0.8</td>\n",
       "    </tr>\n",
       "    <tr>\n",
       "      <th>1</th>\n",
       "      <td>10.4</td>\n",
       "      <td>2.2</td>\n",
       "    </tr>\n",
       "    <tr>\n",
       "      <th>2</th>\n",
       "      <td>16.3</td>\n",
       "      <td>1.7</td>\n",
       "    </tr>\n",
       "    <tr>\n",
       "      <th>3</th>\n",
       "      <td>14.1</td>\n",
       "      <td>1.1</td>\n",
       "    </tr>\n",
       "    <tr>\n",
       "      <th>4</th>\n",
       "      <td>19.9</td>\n",
       "      <td>6.3</td>\n",
       "    </tr>\n",
       "  </tbody>\n",
       "</table>\n",
       "</div>"
      ],
      "text/plain": [
       "   Means  Uncertainties\n",
       "0   14.6            0.8\n",
       "1   10.4            2.2\n",
       "2   16.3            1.7\n",
       "3   14.1            1.1\n",
       "4   19.9            6.3"
      ]
     },
     "execution_count": 230,
     "metadata": {},
     "output_type": "execute_result"
    }
   ],
   "source": [
    "data2 = {\"Means\" : [14.6, 10.4, 16.3, 14.1, 19.9], \"Uncertainties\" : [0.8, 2.2, 1.7, 1.1, 6.3]}\n",
    "d2 = pd.DataFrame(data = data2)\n",
    "d2.head()"
   ]
  },
  {
   "cell_type": "code",
   "execution_count": 231,
   "metadata": {},
   "outputs": [
    {
     "data": {
      "text/html": [
       "<div>\n",
       "<style scoped>\n",
       "    .dataframe tbody tr th:only-of-type {\n",
       "        vertical-align: middle;\n",
       "    }\n",
       "\n",
       "    .dataframe tbody tr th {\n",
       "        vertical-align: top;\n",
       "    }\n",
       "\n",
       "    .dataframe thead th {\n",
       "        text-align: right;\n",
       "    }\n",
       "</style>\n",
       "<table border=\"1\" class=\"dataframe\">\n",
       "  <thead>\n",
       "    <tr style=\"text-align: right;\">\n",
       "      <th></th>\n",
       "      <th>Means</th>\n",
       "      <th>Uncertainties</th>\n",
       "      <th>Weights</th>\n",
       "    </tr>\n",
       "  </thead>\n",
       "  <tbody>\n",
       "    <tr>\n",
       "      <th>0</th>\n",
       "      <td>14.6</td>\n",
       "      <td>0.8</td>\n",
       "      <td>1.562500</td>\n",
       "    </tr>\n",
       "    <tr>\n",
       "      <th>1</th>\n",
       "      <td>10.4</td>\n",
       "      <td>2.2</td>\n",
       "      <td>0.206612</td>\n",
       "    </tr>\n",
       "    <tr>\n",
       "      <th>2</th>\n",
       "      <td>16.3</td>\n",
       "      <td>1.7</td>\n",
       "      <td>0.346021</td>\n",
       "    </tr>\n",
       "    <tr>\n",
       "      <th>3</th>\n",
       "      <td>14.1</td>\n",
       "      <td>1.1</td>\n",
       "      <td>0.826446</td>\n",
       "    </tr>\n",
       "    <tr>\n",
       "      <th>4</th>\n",
       "      <td>19.9</td>\n",
       "      <td>6.3</td>\n",
       "      <td>0.025195</td>\n",
       "    </tr>\n",
       "  </tbody>\n",
       "</table>\n",
       "</div>"
      ],
      "text/plain": [
       "   Means  Uncertainties   Weights\n",
       "0   14.6            0.8  1.562500\n",
       "1   10.4            2.2  0.206612\n",
       "2   16.3            1.7  0.346021\n",
       "3   14.1            1.1  0.826446\n",
       "4   19.9            6.3  0.025195"
      ]
     },
     "execution_count": 231,
     "metadata": {},
     "output_type": "execute_result"
    }
   ],
   "source": [
    "pd.options.mode.chained_assignment = None  # default='warn'\n",
    "bucket = []\n",
    "for uncertainties in d2.Uncertainties:\n",
    "    bucket.append(1/uncertainties**2) #get weights into empty list\n",
    "bucket = pd.DataFrame(data = bucket) #make weights into a dataframe\n",
    "d2['Weights'] = bucket\n",
    "d2"
   ]
  },
  {
   "cell_type": "code",
   "execution_count": 235,
   "metadata": {},
   "outputs": [
    {
     "name": "stdout",
     "output_type": "stream",
     "text": [
      "42.75567704034746\n",
      "2.9667738757758455\n",
      "14.411505167095472\n",
      "0.5805742595140725\n",
      "For all our measurements our best estimate for the true value is 14.41 +- 0.58\n"
     ]
    }
   ],
   "source": [
    "bucket = []\n",
    "for index, row in d2.iterrows():\n",
    "    num1 = (row[\"Means\"] * row[\"Weights\"])\n",
    "    bucket.append(num1)\n",
    "bucket = np.asarray(bucket)\n",
    "numerator = bucket.sum()\n",
    "print(numerator) #this is our wa*xa+wb*xb+...+wn*xn\n",
    "\n",
    "bucket2 = []\n",
    "for index, row in d2.iterrows():\n",
    "    w = (row['Weights'])\n",
    "    bucket2.append(w)\n",
    "bucket2 = np.asarray(bucket2)\n",
    "denominator = bucket2.sum()\n",
    "print(denominator) #this is our wa + wb +... +wn\n",
    "\n",
    "x_wav = numerator/denominator\n",
    "print(x_wav) #this is our best estimate for X, the true value of x.\n",
    "\n",
    "sigma_wav = 1/np.sqrt(denominator)\n",
    "print(sigma_wav) #this is our uncertainty in x_wav\n",
    "\n",
    "print(f\"For all our measurements our best estimate for the true value is {x_wav:.2f} +- {sigma_wav:.2f}\")"
   ]
  },
  {
   "cell_type": "code",
   "execution_count": 148,
   "metadata": {},
   "outputs": [
    {
     "data": {
      "text/html": [
       "<div>\n",
       "<style scoped>\n",
       "    .dataframe tbody tr th:only-of-type {\n",
       "        vertical-align: middle;\n",
       "    }\n",
       "\n",
       "    .dataframe tbody tr th {\n",
       "        vertical-align: top;\n",
       "    }\n",
       "\n",
       "    .dataframe thead th {\n",
       "        text-align: right;\n",
       "    }\n",
       "</style>\n",
       "<table border=\"1\" class=\"dataframe\">\n",
       "  <thead>\n",
       "    <tr style=\"text-align: right;\">\n",
       "      <th></th>\n",
       "      <th>Means</th>\n",
       "      <th>Uncertainties</th>\n",
       "    </tr>\n",
       "  </thead>\n",
       "  <tbody>\n",
       "    <tr>\n",
       "      <th>0</th>\n",
       "      <td>14.6</td>\n",
       "      <td>0.8</td>\n",
       "    </tr>\n",
       "    <tr>\n",
       "      <th>1</th>\n",
       "      <td>10.4</td>\n",
       "      <td>2.2</td>\n",
       "    </tr>\n",
       "    <tr>\n",
       "      <th>2</th>\n",
       "      <td>16.3</td>\n",
       "      <td>1.7</td>\n",
       "    </tr>\n",
       "    <tr>\n",
       "      <th>3</th>\n",
       "      <td>14.1</td>\n",
       "      <td>1.1</td>\n",
       "    </tr>\n",
       "  </tbody>\n",
       "</table>\n",
       "</div>"
      ],
      "text/plain": [
       "   Means  Uncertainties\n",
       "0   14.6            0.8\n",
       "1   10.4            2.2\n",
       "2   16.3            1.7\n",
       "3   14.1            1.1"
      ]
     },
     "execution_count": 148,
     "metadata": {},
     "output_type": "execute_result"
    }
   ],
   "source": [
    "#Look at just first 4 values\n",
    "d3 = d2[0:4] #to make it all more compact\n",
    "d3"
   ]
  },
  {
   "cell_type": "markdown",
   "metadata": {},
   "source": [
    "In Taylor, X is unknown true value of x. Weight_n = 1/(sigma_n)^2\n",
    "\n",
    "x = x_a +- sigma_a \n",
    "\n",
    "We say (Best estimate for X) = x_wav = ((Weight_a * x_a) + (Weight_b * x_b) +...)/(Weight_a + Weight_b +....)\n",
    "\n",
    "sigma_wav = 1/sqrt(sum(weights))"
   ]
  },
  {
   "cell_type": "code",
   "execution_count": 224,
   "metadata": {},
   "outputs": [
    {
     "data": {
      "text/html": [
       "<div>\n",
       "<style scoped>\n",
       "    .dataframe tbody tr th:only-of-type {\n",
       "        vertical-align: middle;\n",
       "    }\n",
       "\n",
       "    .dataframe tbody tr th {\n",
       "        vertical-align: top;\n",
       "    }\n",
       "\n",
       "    .dataframe thead th {\n",
       "        text-align: right;\n",
       "    }\n",
       "</style>\n",
       "<table border=\"1\" class=\"dataframe\">\n",
       "  <thead>\n",
       "    <tr style=\"text-align: right;\">\n",
       "      <th></th>\n",
       "      <th>Means</th>\n",
       "      <th>Uncertainties</th>\n",
       "      <th>Weights</th>\n",
       "    </tr>\n",
       "  </thead>\n",
       "  <tbody>\n",
       "    <tr>\n",
       "      <th>0</th>\n",
       "      <td>14.6</td>\n",
       "      <td>0.8</td>\n",
       "      <td>1.562500</td>\n",
       "    </tr>\n",
       "    <tr>\n",
       "      <th>1</th>\n",
       "      <td>10.4</td>\n",
       "      <td>2.2</td>\n",
       "      <td>0.206612</td>\n",
       "    </tr>\n",
       "    <tr>\n",
       "      <th>2</th>\n",
       "      <td>16.3</td>\n",
       "      <td>1.7</td>\n",
       "      <td>0.346021</td>\n",
       "    </tr>\n",
       "    <tr>\n",
       "      <th>3</th>\n",
       "      <td>14.1</td>\n",
       "      <td>1.1</td>\n",
       "      <td>0.826446</td>\n",
       "    </tr>\n",
       "  </tbody>\n",
       "</table>\n",
       "</div>"
      ],
      "text/plain": [
       "   Means  Uncertainties   Weights\n",
       "0   14.6            0.8  1.562500\n",
       "1   10.4            2.2  0.206612\n",
       "2   16.3            1.7  0.346021\n",
       "3   14.1            1.1  0.826446"
      ]
     },
     "execution_count": 224,
     "metadata": {},
     "output_type": "execute_result"
    }
   ],
   "source": [
    "pd.options.mode.chained_assignment = None  # default='warn'\n",
    "bucket = []\n",
    "for uncertainties in d3.Uncertainties:\n",
    "    bucket.append(1/uncertainties**2) #get weights into empty list\n",
    "bucket = pd.DataFrame(data = bucket) #make weights into a dataframe\n",
    "d3['Weights'] = bucket\n",
    "d3"
   ]
  },
  {
   "cell_type": "code",
   "execution_count": 236,
   "metadata": {
    "scrolled": true
   },
   "outputs": [
    {
     "name": "stdout",
     "output_type": "stream",
     "text": [
      "42.25429130086648\n",
      "2.941578612485344\n",
      "14.364495010101315\n",
      "0.5830553307808733\n",
      "For the first four measurements our best estimate for the true value is 14.41 +- 0.58\n"
     ]
    }
   ],
   "source": [
    "bucket = []\n",
    "for index, row in d3.iterrows():\n",
    "    num1 = (row[\"Means\"] * row[\"Weights\"])\n",
    "    bucket.append(num1)\n",
    "bucket = np.asarray(bucket)\n",
    "numerator2 = bucket.sum()\n",
    "print(numerator2) #this is our wa*xa+wb*xb+...+wn*xn\n",
    "\n",
    "bucket2 = []\n",
    "for index, row in d3.iterrows():\n",
    "    w = (row['Weights'])\n",
    "    bucket2.append(w)\n",
    "bucket2 = np.asarray(bucket2)\n",
    "denominator2 = bucket2.sum()\n",
    "print(denominator2) #this is our wa + wb +... +wn\n",
    "\n",
    "x_wav2 = numerator2/denominator2\n",
    "print(x_wav2) #this is our best estimate for X, the true value of x.\n",
    "\n",
    "sigma_wav2 = 1/np.sqrt(denominator2)\n",
    "print(sigma_wav2) #this is our uncertainty in x_wav\n",
    "\n",
    "print(f\"For the first four measurements our best estimate for the true value is {x_wav:.2f} +- {sigma_wav:.2f}\")"
   ]
  },
  {
   "cell_type": "code",
   "execution_count": 238,
   "metadata": {},
   "outputs": [
    {
     "name": "stdout",
     "output_type": "stream",
     "text": [
      "42.75567704034746 42.25429130086648\n",
      "2.9667738757758455 2.941578612485344\n",
      "14.411505167095472 14.364495010101315\n",
      "0.5805742595140725 0.5830553307808733\n"
     ]
    }
   ],
   "source": [
    "print(numerator, numerator2)\n",
    "print(denominator, denominator2)\n",
    "print(x_wav, x_wav2)\n",
    "print(sigma_wav, sigma_wav2)"
   ]
  },
  {
   "cell_type": "code",
   "execution_count": 241,
   "metadata": {},
   "outputs": [
    {
     "name": "stdout",
     "output_type": "stream",
     "text": [
      "0.025195263290501386\n"
     ]
    }
   ],
   "source": [
    "print(d2['Weights'].iloc[-1])"
   ]
  },
  {
   "cell_type": "markdown",
   "metadata": {},
   "source": [
    "We can see above that the difference between including and removing the final measurement of 19.9+-6.3 W/m2 has very little contribution to our x_wav and sigma_wav values.  This is due to the fact that the final measurement has a tiny weight of about 0.025.  This small weight comes from the fact that the uncertainty was large, got squared, and was put into the denominator.  "
   ]
  },
  {
   "cell_type": "markdown",
   "metadata": {},
   "source": [
    "# Not A Homework Question\n",
    "Below are for curiosity's sake, if we had used a non-weighted average"
   ]
  },
  {
   "cell_type": "code",
   "execution_count": 126,
   "metadata": {},
   "outputs": [
    {
     "name": "stdout",
     "output_type": "stream",
     "text": [
      "The average of all of our values is 15.06 plus or minus 7.02\n"
     ]
    }
   ],
   "source": [
    "bucket1 = []\n",
    "total_avg = d2.Means.sum()/(int(np.asarray(d2.Means.shape)))\n",
    "for uncertainties in d2.Uncertainties:\n",
    "    bucket1.append(uncertainties**2)\n",
    "bucket1 = pd.DataFrame(data = bucket1)\n",
    "total_error = np.sqrt(bucket1.sum())\n",
    "total_error = float(total_error)\n",
    "print(f\"The average of all of our values is {total_avg:.2f} plus or minus {total_error:.2f}\")"
   ]
  },
  {
   "cell_type": "code",
   "execution_count": 125,
   "metadata": {},
   "outputs": [
    {
     "name": "stdout",
     "output_type": "stream",
     "text": [
      "The average of all of our values is 13.85 plus or minus 3.10\n"
     ]
    }
   ],
   "source": [
    "bucket1 = []\n",
    "total_avg = d2[0:4].Means.sum()/(int(np.asarray(d2[0:4].Means.shape)))\n",
    "for uncertainties in d2[0:4].Uncertainties:\n",
    "    bucket1.append(uncertainties**2)\n",
    "bucket1 = pd.DataFrame(data = bucket1)\n",
    "total_error = np.sqrt(bucket1.sum())\n",
    "total_error = float(total_error)\n",
    "print(f\"The average of all of our values is {total_avg:.2f} plus or minus {total_error:.2f}\")"
   ]
  },
  {
   "cell_type": "code",
   "execution_count": null,
   "metadata": {},
   "outputs": [],
   "source": []
  }
 ],
 "metadata": {
  "kernelspec": {
   "display_name": "Python 3",
   "language": "python",
   "name": "python3"
  },
  "language_info": {
   "codemirror_mode": {
    "name": "ipython",
    "version": 3
   },
   "file_extension": ".py",
   "mimetype": "text/x-python",
   "name": "python",
   "nbconvert_exporter": "python",
   "pygments_lexer": "ipython3",
   "version": "3.7.1"
  }
 },
 "nbformat": 4,
 "nbformat_minor": 2
}
