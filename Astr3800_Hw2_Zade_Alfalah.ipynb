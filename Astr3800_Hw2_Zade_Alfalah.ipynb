{
 "cells": [
  {
   "cell_type": "markdown",
   "metadata": {},
   "source": [
    "Zade Alfalah\n",
    "Astro 3800 Hw #2\n",
    "Code for question 1; answers for 2, 3 written out on paper.\n",
    "\n",
    "My guessed mean die roll was 3.5, this fits well with simulated data (especially at high n)."
   ]
  },
  {
   "cell_type": "code",
   "execution_count": 86,
   "metadata": {},
   "outputs": [],
   "source": [
    "import numpy as np\n",
    "import matplotlib.pyplot as plt\n",
    "import seaborn as sns"
   ]
  },
  {
   "cell_type": "code",
   "execution_count": 127,
   "metadata": {},
   "outputs": [],
   "source": [
    "def die_roller():\n",
    "    x = []\n",
    "    rolls = input(\"I would like to roll this many die: \")\n",
    "    roll_num = int(rolls)\n",
    "    for rolls in np.arange(roll_num):\n",
    "        results = np.random.randint(low = 1, high = 7)\n",
    "        x.append(results)\n",
    "    y = np.sum(x)\n",
    "    mean = y/roll_num\n",
    "    ax = plt.hist(x, bins = 50)\n",
    "    plt.xlabel('Roll Result')\n",
    "    plt.ylabel('Frequency')\n",
    "    return \"Here is the sum of your die rolled:\", y, \"Here is your mean die roll:\", mean #, \"Here are the die you rolled:\", x"
   ]
  },
  {
   "cell_type": "code",
   "execution_count": 118,
   "metadata": {},
   "outputs": [
    {
     "name": "stdout",
     "output_type": "stream",
     "text": [
      "I would like to roll this many die: 10\n"
     ]
    },
    {
     "data": {
      "text/plain": [
       "('Here is the sum of your die rolled:', 32, 'Here is your mean die roll:', 3.2)"
      ]
     },
     "execution_count": 118,
     "metadata": {},
     "output_type": "execute_result"
    },
    {
     "data": {
      "image/png": "[encoded data removed]",
      "text/plain": [
       "<Figure size 432x288 with 1 Axes>"
      ]
     },
     "metadata": {
      "needs_background": "light"
     },
     "output_type": "display_data"
    }
   ],
   "source": [
    "die_roller()"
   ]
  },
  {
   "cell_type": "code",
   "execution_count": 122,
   "metadata": {},
   "outputs": [
    {
     "name": "stdout",
     "output_type": "stream",
     "text": [
      "I would like to roll this many die: 100\n"
     ]
    },
    {
     "data": {
      "text/plain": [
       "('Here is the sum of your die rolled:',\n",
       " 319,\n",
       " 'Here is your mean die roll:',\n",
       " 3.19)"
      ]
     },
     "execution_count": 122,
     "metadata": {},
     "output_type": "execute_result"
    },
    {
     "data": {
      "image/png": "[encoded data removed]",
      "text/plain": [
       "<Figure size 432x288 with 1 Axes>"
      ]
     },
     "metadata": {
      "needs_background": "light"
     },
     "output_type": "display_data"
    }
   ],
   "source": [
    "die_roller()"
   ]
  },
  {
   "cell_type": "code",
   "execution_count": 129,
   "metadata": {},
   "outputs": [
    {
     "name": "stdout",
     "output_type": "stream",
     "text": [
      "I would like to roll this many die: 1000\n"
     ]
    },
    {
     "data": {
      "text/plain": [
       "('Here is the sum of your die rolled:',\n",
       " 3454,\n",
       " 'Here is your mean die roll:',\n",
       " 3.454)"
      ]
     },
     "execution_count": 129,
     "metadata": {},
     "output_type": "execute_result"
    },
    {
     "data": {
      "image/png": "[encoded data removed]",
      "text/plain": [
       "<Figure size 432x288 with 1 Axes>"
      ]
     },
     "metadata": {
      "needs_background": "light"
     },
     "output_type": "display_data"
    }
   ],
   "source": [
    "die_roller()"
   ]
  },
  {
   "cell_type": "code",
   "execution_count": 124,
   "metadata": {},
   "outputs": [
    {
     "name": "stdout",
     "output_type": "stream",
     "text": [
      "I would like to roll this many die: 100000000\n"
     ]
    },
    {
     "data": {
      "text/plain": [
       "('Here is the sum of your die rolled:',\n",
       " 349987946,\n",
       " 'Here is your mean die roll:',\n",
       " 3.49987946)"
      ]
     },
     "execution_count": 124,
     "metadata": {},
     "output_type": "execute_result"
    },
    {
     "data": {
      "image/png": "[encoded data removed]",
      "text/plain": [
       "<Figure size 432x288 with 1 Axes>"
      ]
     },
     "metadata": {
      "needs_background": "light"
     },
     "output_type": "display_data"
    }
   ],
   "source": [
    "die_roller()"
   ]
  },
  {
   "cell_type": "code",
   "execution_count": null,
   "metadata": {},
   "outputs": [],
   "source": []
  }
 ],
 "metadata": {
  "kernelspec": {
   "display_name": "Python 3",
   "language": "python",
   "name": "python3"
  },
  "language_info": {
   "codemirror_mode": {
    "name": "ipython",
    "version": 3
   },
   "file_extension": ".py",
   "mimetype": "text/x-python",
   "name": "python",
   "nbconvert_exporter": "python",
   "pygments_lexer": "ipython3",
   "version": "3.7.1"
  }
 },
 "nbformat": 4,
 "nbformat_minor": 2
}
