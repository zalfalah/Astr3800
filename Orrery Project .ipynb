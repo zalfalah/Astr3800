{
 "cells": [
  {
   "cell_type": "code",
   "execution_count": 1,
   "metadata": {},
   "outputs": [],
   "source": [
    "import pandas as pd\n",
    "import matplotlib.pyplot as plt\n",
    "import numpy as np\n",
    "#import stuff"
   ]
  },
  {
   "cell_type": "code",
   "execution_count": 2,
   "metadata": {},
   "outputs": [],
   "source": [
    "%matplotlib widget\n",
    "#get nice graphs"
   ]
  },
  {
   "cell_type": "code",
   "execution_count": 3,
   "metadata": {
    "scrolled": true
   },
   "outputs": [],
   "source": [
    "data = pd.read_csv(\"orr_data.csv\", header=0)\n",
    "#read in our data"
   ]
  },
  {
   "cell_type": "code",
   "execution_count": 70,
   "metadata": {},
   "outputs": [
    {
     "data": {
      "text/html": [
       "<div>\n",
       "<style scoped>\n",
       "    .dataframe tbody tr th:only-of-type {\n",
       "        vertical-align: middle;\n",
       "    }\n",
       "\n",
       "    .dataframe tbody tr th {\n",
       "        vertical-align: top;\n",
       "    }\n",
       "\n",
       "    .dataframe thead th {\n",
       "        text-align: right;\n",
       "    }\n",
       "</style>\n",
       "<table border=\"1\" class=\"dataframe\">\n",
       "  <thead>\n",
       "    <tr style=\"text-align: right;\">\n",
       "      <th></th>\n",
       "      <th>Time</th>\n",
       "      <th>Illumination</th>\n",
       "    </tr>\n",
       "  </thead>\n",
       "  <tbody>\n",
       "    <tr>\n",
       "      <th>0</th>\n",
       "      <td>0.00</td>\n",
       "      <td>77</td>\n",
       "    </tr>\n",
       "    <tr>\n",
       "      <th>1</th>\n",
       "      <td>0.05</td>\n",
       "      <td>77</td>\n",
       "    </tr>\n",
       "    <tr>\n",
       "      <th>2</th>\n",
       "      <td>0.10</td>\n",
       "      <td>77</td>\n",
       "    </tr>\n",
       "    <tr>\n",
       "      <th>3</th>\n",
       "      <td>0.15</td>\n",
       "      <td>77</td>\n",
       "    </tr>\n",
       "    <tr>\n",
       "      <th>4</th>\n",
       "      <td>0.20</td>\n",
       "      <td>77</td>\n",
       "    </tr>\n",
       "  </tbody>\n",
       "</table>\n",
       "</div>"
      ],
      "text/plain": [
       "   Time  Illumination\n",
       "0  0.00            77\n",
       "1  0.05            77\n",
       "2  0.10            77\n",
       "3  0.15            77\n",
       "4  0.20            77"
      ]
     },
     "execution_count": 70,
     "metadata": {},
     "output_type": "execute_result"
    }
   ],
   "source": [
    "data.head()\n",
    "#check data loaded"
   ]
  },
  {
   "cell_type": "code",
   "execution_count": 177,
   "metadata": {},
   "outputs": [
    {
     "data": {
      "application/vnd.jupyter.widget-view+json": {
       "model_id": "5e157392f55a4ee0a48660b2ab5390db",
       "version_major": 2,
       "version_minor": 0
      },
      "text/plain": [
       "FigureCanvasNbAgg()"
      ]
     },
     "metadata": {},
     "output_type": "display_data"
    }
   ],
   "source": [
    "# Plot of all Data\n",
    "data.plot(x=\"Time\", y=\"Illumination\")\n",
    "plt.title(\"Illumination Vs. Time\")\n",
    "plt.ylabel(\"Illumination Value\")\n",
    "plt.xlabel(\"Time (sec)\")\n",
    "plt.savefig(\"illvtime.png\")"
   ]
  },
  {
   "cell_type": "code",
   "execution_count": 6,
   "metadata": {},
   "outputs": [],
   "source": [
    "#create chunks for bits that we know are not curves\n",
    "m1 = data[(data[\"Time\"] > 0) & (data[\"Time\"] < 8.9)] #first non-dip\n",
    "m2 = data[(data[\"Time\"] >10.6) & (data[\"Time\"] <= 20.9)]#second non-dip\n",
    "m3 = data[(data[\"Time\"] >22.5) & (data[\"Time\"] <= 32.5)]#third non-dip\n",
    "m4 = data[(data[\"Time\"] >34.3) & (data[\"Time\"] <= 44.4)]#fourth non-dip\n",
    "m5 = data[(data[\"Time\"] >46.2) & (data[\"Time\"] <= 56.14)]#fifth non-dip\n",
    "m6 = data[(data[\"Time\"] >57.9) & (data[\"Time\"] <= 68.1)]#sixth non-dip\n",
    "m7 = data[(data[\"Time\"] >69.8) & (data[\"Time\"] <= 79.8)]#seventh non-dip\n",
    "m8 = data[(data[\"Time\"] >81.6) & (data[\"Time\"] <= 100)]#eighth non-dip"
   ]
  },
  {
   "cell_type": "code",
   "execution_count": 7,
   "metadata": {},
   "outputs": [],
   "source": [
    "flat = m1.append([m2, m3, m4, m5, m6, m7, m8]) #make all of the 'flat' bits into one df"
   ]
  },
  {
   "cell_type": "code",
   "execution_count": 8,
   "metadata": {},
   "outputs": [
    {
     "name": "stdout",
     "output_type": "stream",
     "text": [
      "76.39891082368959 0.5907081704083055\n"
     ]
    }
   ],
   "source": [
    "mfi = flat['Illumination'].mean() #mean flat illumination\n",
    "mfs = flat['Illumination'].std() #flat std\n",
    "print(mfi, mfs)"
   ]
  },
  {
   "cell_type": "code",
   "execution_count": 17,
   "metadata": {},
   "outputs": [],
   "source": [
    "d1 = data[(data[\"Time\"] > 9.00) & (data[\"Time\"] < 10.7)] #dip 1\n",
    "d2 = data[(data[\"Time\"] > 20.9) & (data[\"Time\"] < 22.5)] #dip 2\n",
    "d3 = data[(data[\"Time\"] > 32.6) & (data[\"Time\"] < 34.2)] #dip 3\n",
    "d4 = data[(data[\"Time\"] > 44.4) & (data[\"Time\"] < 46.1)] #dip 4\n",
    "d5 = data[(data[\"Time\"] > 56.1) & (data[\"Time\"] < 57.8)] #dip 5\n",
    "d6 = data[(data[\"Time\"] > 68.0) & (data[\"Time\"] < 69.8)] #dip 6\n",
    "d7 = data[(data[\"Time\"] > 79.8) & (data[\"Time\"] < 81.5)] #dip 7"
   ]
  },
  {
   "cell_type": "code",
   "execution_count": 29,
   "metadata": {},
   "outputs": [
    {
     "name": "stdout",
     "output_type": "stream",
     "text": [
      "67\n",
      "67\n",
      "67\n",
      "66\n",
      "68\n",
      "67\n",
      "66\n"
     ]
    }
   ],
   "source": [
    "for d in (d1, d2, d3, d4, d5, d6, d7):\n",
    "    print(d[\"Illumination\"].min()) #Our minimum points in our dips, rounded to integer so +-1"
   ]
  },
  {
   "cell_type": "code",
   "execution_count": 44,
   "metadata": {},
   "outputs": [],
   "source": [
    "#define dips, all +-0.5\n",
    "dip1 = 67\n",
    "dip2 = 67\n",
    "dip3 = 67\n",
    "dip4 = 66\n",
    "dip5 = 68\n",
    "dip6 = 67\n",
    "dip7 = 66\n",
    "dipavg = (dip1 + dip2 + dip3 + dip4 + dip5 + dip6 + dip7) / 7 "
   ]
  },
  {
   "cell_type": "code",
   "execution_count": 125,
   "metadata": {},
   "outputs": [],
   "source": [
    "#differences between dips and the average dip at each dip\n",
    "x1 = (dip1 - dipavg)\n",
    "x2 = (dip2 - dipavg)\n",
    "x3 = (dip3 - dipavg)\n",
    "x4 = (dip4 - dipavg)\n",
    "x5 = (dip5 - dipavg)\n",
    "x6 = (dip6 - dipavg)\n",
    "x7 = (dip7 - dipavg)"
   ]
  },
  {
   "cell_type": "code",
   "execution_count": 126,
   "metadata": {},
   "outputs": [
    {
     "name": "stdout",
     "output_type": "stream",
     "text": [
      "67.11796312262152 66.85714285714286 66.5963225916642 0.2608202654786505\n",
      "xactual =  66.85714285714286 +- 0.2608202654786505\n"
     ]
    }
   ],
   "source": [
    "#find the std of our differences between dips and the average dip\n",
    "sigmax = np.sqrt((1/6)*(x1**2 + x2**2 + x3**2 + x4**2 + x5**2 + x6**2 + x7**2)) #standard deviation of average dip\n",
    "stdmean = sigmax / np.sqrt(7) #standard dev of mean, error of dip measurements\n",
    "xactual_high = dipavg + stdmean\n",
    "xactual_low = dipavg - stdmean\n",
    "print(xactual_high, dipavg,  xactual_low, stdmean)\n",
    "print (f\"xactual =  {dipavg} +- {stdmean}\")\n",
    "#xactual = xbest +- stdmean where xbest is mfi, stdmean above\n",
    "#best value for dip"
   ]
  },
  {
   "cell_type": "code",
   "execution_count": 146,
   "metadata": {},
   "outputs": [
    {
     "name": "stdout",
     "output_type": "stream",
     "text": [
      "The % diff. of our dips is 12.48940313896208 % +- 0.8660323026115269 %\n"
     ]
    }
   ],
   "source": [
    "meandiff = np.abs((dipavg-mfi)/mfi) # average dip\n",
    "mde = np.sqrt((stdmean/dipavg)**2+(mfs/mfi)**2) #average dip error\n",
    "\n",
    "print(f\"The % diff. of our dips is {meandiff*100} % +- {mde*100} %\")"
   ]
  },
  {
   "cell_type": "code",
   "execution_count": 150,
   "metadata": {},
   "outputs": [
    {
     "name": "stdout",
     "output_type": "stream",
     "text": [
      "The best estimate for our planet is 1.9074953727497006 +- 5.118960493109954 cm which shows a 268.36030987225143 % error in our measurements.  Our actual planet size is 3.175 cm\n"
     ]
    }
   ],
   "source": [
    "#xactual is our dip measurements\n",
    "rs = 5.3975 #star rad in cm\n",
    "rse = 0.079375 #star diam error in cm\n",
    "rpmean = rs * np.sqrt(meandiff) #in cm\n",
    "rperror = np.sqrt((1/2)*(mde/meandiff)**2 + (rse/rs)**2)\n",
    "perror = rperror*100/rpmean*100\n",
    "print(f\"The best estimate for our planet is {rpmean} +- {rperror*100} cm which shows a {perror} % error in our measurements.  Our actual planet size is 3.175 cm\")"
   ]
  },
  {
   "cell_type": "code",
   "execution_count": 151,
   "metadata": {},
   "outputs": [
    {
     "data": {
      "text/plain": [
       "0.8751059686103791"
      ]
     },
     "execution_count": 151,
     "metadata": {},
     "output_type": "execute_result"
    }
   ],
   "source": [
    "dipavg / mfi"
   ]
  },
  {
   "cell_type": "code",
   "execution_count": 171,
   "metadata": {},
   "outputs": [],
   "source": [
    "l = rs*np.sqrt(dipavg/mfi) \n",
    "l2 = l*.062445"
   ]
  },
  {
   "cell_type": "code",
   "execution_count": 172,
   "metadata": {},
   "outputs": [
    {
     "name": "stdout",
     "output_type": "stream",
     "text": [
      "5.0492046554817405 0.3152975847115573\n"
     ]
    }
   ],
   "source": [
    "print(l, l2)"
   ]
  },
  {
   "cell_type": "code",
   "execution_count": 163,
   "metadata": {},
   "outputs": [
    {
     "data": {
      "text/plain": [
       "1.2367294308858268"
      ]
     },
     "execution_count": 163,
     "metadata": {},
     "output_type": "execute_result"
    }
   ],
   "source": [
    "l2/l*100"
   ]
  },
  {
   "cell_type": "code",
   "execution_count": 164,
   "metadata": {},
   "outputs": [
    {
     "data": {
      "text/plain": [
       "0.3152975847115573"
      ]
     },
     "execution_count": 164,
     "metadata": {},
     "output_type": "execute_result"
    }
   ],
   "source": [
    "l*l2"
   ]
  },
  {
   "cell_type": "code",
   "execution_count": 167,
   "metadata": {},
   "outputs": [
    {
     "data": {
      "text/plain": [
       "0.24493549286879351"
      ]
     },
     "execution_count": 167,
     "metadata": {},
     "output_type": "execute_result"
    }
   ],
   "source": [
    "(l2/l)/l*100"
   ]
  },
  {
   "cell_type": "code",
   "execution_count": 168,
   "metadata": {},
   "outputs": [
    {
     "data": {
      "text/plain": [
       "0.24499900970489205"
      ]
     },
     "execution_count": 168,
     "metadata": {},
     "output_type": "execute_result"
    }
   ],
   "source": [
    "1.237/5.049"
   ]
  },
  {
   "cell_type": "code",
   "execution_count": null,
   "metadata": {},
   "outputs": [],
   "source": []
  }
 ],
 "metadata": {
  "kernelspec": {
   "display_name": "Python 3",
   "language": "python",
   "name": "python3"
  },
  "language_info": {
   "codemirror_mode": {
    "name": "ipython",
    "version": 3
   },
   "file_extension": ".py",
   "mimetype": "text/x-python",
   "name": "python",
   "nbconvert_exporter": "python",
   "pygments_lexer": "ipython3",
   "version": "3.7.1"
  }
 },
 "nbformat": 4,
 "nbformat_minor": 2
}
