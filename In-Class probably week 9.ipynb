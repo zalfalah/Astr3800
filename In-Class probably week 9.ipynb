{
 "cells": [
  {
   "cell_type": "markdown",
   "metadata": {},
   "source": [
    "# In Class Week 9(?)"
   ]
  },
  {
   "cell_type": "code",
   "execution_count": 28,
   "metadata": {},
   "outputs": [],
   "source": [
    "import numpy as np\n",
    "import pandas as pd\n",
    "import matplotlib.pyplot as plt\n",
    "%matplotlib widget"
   ]
  },
  {
   "cell_type": "code",
   "execution_count": 6,
   "metadata": {},
   "outputs": [
    {
     "data": {
      "text/html": [
       "<div>\n",
       "<style scoped>\n",
       "    .dataframe tbody tr th:only-of-type {\n",
       "        vertical-align: middle;\n",
       "    }\n",
       "\n",
       "    .dataframe tbody tr th {\n",
       "        vertical-align: top;\n",
       "    }\n",
       "\n",
       "    .dataframe thead th {\n",
       "        text-align: right;\n",
       "    }\n",
       "</style>\n",
       "<table border=\"1\" class=\"dataframe\">\n",
       "  <thead>\n",
       "    <tr style=\"text-align: right;\">\n",
       "      <th></th>\n",
       "      <th>Star</th>\n",
       "      <th>A</th>\n",
       "      <th>B</th>\n",
       "    </tr>\n",
       "  </thead>\n",
       "  <tbody>\n",
       "    <tr>\n",
       "      <th>0</th>\n",
       "      <td>1</td>\n",
       "      <td>23.0</td>\n",
       "      <td>20.5</td>\n",
       "    </tr>\n",
       "    <tr>\n",
       "      <th>1</th>\n",
       "      <td>2</td>\n",
       "      <td>20.4</td>\n",
       "      <td>18.8</td>\n",
       "    </tr>\n",
       "    <tr>\n",
       "      <th>2</th>\n",
       "      <td>3</td>\n",
       "      <td>18.9</td>\n",
       "      <td>20.0</td>\n",
       "    </tr>\n",
       "    <tr>\n",
       "      <th>3</th>\n",
       "      <td>4</td>\n",
       "      <td>19.7</td>\n",
       "      <td>20.2</td>\n",
       "    </tr>\n",
       "    <tr>\n",
       "      <th>4</th>\n",
       "      <td>5</td>\n",
       "      <td>18.5</td>\n",
       "      <td>20.6</td>\n",
       "    </tr>\n",
       "    <tr>\n",
       "      <th>5</th>\n",
       "      <td>6</td>\n",
       "      <td>21.5</td>\n",
       "      <td>20.5</td>\n",
       "    </tr>\n",
       "    <tr>\n",
       "      <th>6</th>\n",
       "      <td>7</td>\n",
       "      <td>16.2</td>\n",
       "      <td>22.6</td>\n",
       "    </tr>\n",
       "    <tr>\n",
       "      <th>7</th>\n",
       "      <td>8</td>\n",
       "      <td>18.2</td>\n",
       "      <td>21.6</td>\n",
       "    </tr>\n",
       "    <tr>\n",
       "      <th>8</th>\n",
       "      <td>9</td>\n",
       "      <td>21.9</td>\n",
       "      <td>19.3</td>\n",
       "    </tr>\n",
       "    <tr>\n",
       "      <th>9</th>\n",
       "      <td>10</td>\n",
       "      <td>19.2</td>\n",
       "      <td>21.5</td>\n",
       "    </tr>\n",
       "  </tbody>\n",
       "</table>\n",
       "</div>"
      ],
      "text/plain": [
       "   Star     A     B\n",
       "0     1  23.0  20.5\n",
       "1     2  20.4  18.8\n",
       "2     3  18.9  20.0\n",
       "3     4  19.7  20.2\n",
       "4     5  18.5  20.6\n",
       "5     6  21.5  20.5\n",
       "6     7  16.2  22.6\n",
       "7     8  18.2  21.6\n",
       "8     9  21.9  19.3\n",
       "9    10  19.2  21.5"
      ]
     },
     "execution_count": 6,
     "metadata": {},
     "output_type": "execute_result"
    }
   ],
   "source": [
    "data1 = {'Star' : [1, 2, 3, 4, 5, 6, 7, 8, 9, 10], 'A' : [23.0, 20.4, 18.9, 19.7, 18.5, 21.5, 16.2, 18.2, 21.9, 19.2], 'B': [20.5, 18.8, 20.0, 20.2, 20.6, 20.5, 22.6, 21.6, 19.3, 21.5]}\n",
    "d1 = pd.DataFrame(data = data1)\n",
    "d1"
   ]
  },
  {
   "cell_type": "markdown",
   "metadata": {},
   "source": [
    "For Astronomer A: Use their data,\n",
    "\n",
    "Find the uncertainty of each measurement of Astronomer A\n",
    "\n",
    "Find the best estimate of the amount of element according to Astronomer A (this is just x_wav)\n",
    "\n",
    "Find the uncertainty of their best estimate (this is just sigma_wav)"
   ]
  },
  {
   "cell_type": "markdown",
   "metadata": {},
   "source": [
    "# Don't Take Out Values First\n",
    "Get a general idea of what their data looks like, what it does when weighted"
   ]
  },
  {
   "cell_type": "code",
   "execution_count": 20,
   "metadata": {},
   "outputs": [
    {
     "name": "stdout",
     "output_type": "stream",
     "text": [
      "19.75 2.007347614252311 0.6347790516742376\n"
     ]
    }
   ],
   "source": [
    "mean1_a = d1['A'].mean()\n",
    "std1_a = d1['A'].std()\n",
    "sdom1_a = std1_a/np.sqrt(d1['A'].shape[0])\n",
    "print(mean1_a, std1_a, sdom1_a)\n",
    "# x = x_a +- sigma_a, = mean1_a +- std1_a"
   ]
  },
  {
   "cell_type": "code",
   "execution_count": 21,
   "metadata": {},
   "outputs": [
    {
     "name": "stdout",
     "output_type": "stream",
     "text": [
      "20.560000000000002 1.1187294380481618 0.6347790516742376\n"
     ]
    }
   ],
   "source": [
    "mean1_b = d1['B'].mean()\n",
    "std1_b = d1['B'].std()\n",
    "sdom1_b = std1_a/np.sqrt(d1['B'].shape[0])\n",
    "print(mean1_b, std1_b, sdom1_b)\n",
    "# x = x_b +- sigma_b, = mean1_b +- std1_b"
   ]
  },
  {
   "cell_type": "code",
   "execution_count": 22,
   "metadata": {},
   "outputs": [
    {
     "name": "stdout",
     "output_type": "stream",
     "text": [
      "0.2481731697228733 0.7990056818181815\n"
     ]
    }
   ],
   "source": [
    "w1_a = 1/std1_a**2\n",
    "w1_b = 1/std1_b**2\n",
    "print(w1_a, w1_b)"
   ]
  },
  {
   "cell_type": "code",
   "execution_count": 25,
   "metadata": {},
   "outputs": [
    {
     "name": "stdout",
     "output_type": "stream",
     "text": [
      "20.36803635675062 0.9772137488272323\n"
     ]
    }
   ],
   "source": [
    "x1_wav = ((w1_a * mean1_a) + (w1_b * mean1_b))/(w1_a + w1_b)\n",
    "sigma1_wav = 1/np.sqrt(w1_a + w1_b)\n",
    "print(x1_wav, sigma1_wav)\n",
    "#Our values if we don't remove any points from either, just take it all at face value."
   ]
  },
  {
   "cell_type": "markdown",
   "metadata": {},
   "source": [
    "In answer to question 1(c), we can see above that the individual best estimates of A and B have similar means but that A is much more spread out than B since it has around double the standard deviation value.  This makes sense in our hypothetical setup where A and B are viewing the same stars, but group B is using the precision SBO 24\" telescope and have smaller uncertainties because of it, whereas group A is using the smaller telescope which increases their uncertainties.\n",
    "# Lets Plot \n",
    "Will help us visually ascertain if there are any huge outliers"
   ]
  },
  {
   "cell_type": "code",
   "execution_count": 66,
   "metadata": {},
   "outputs": [
    {
     "data": {
      "text/plain": [
       "<matplotlib.axes._subplots.AxesSubplot at 0x220e2c0ebe0>"
      ]
     },
     "execution_count": 66,
     "metadata": {},
     "output_type": "execute_result"
    },
    {
     "data": {
      "image/png": "[encoded data removed]",
      "text/plain": [
       "<Figure size 432x288 with 1 Axes>"
      ]
     },
     "metadata": {
      "needs_background": "light"
     },
     "output_type": "display_data"
    }
   ],
   "source": [
    "#Plot them together\n",
    "d1['A'].plot(legend = True, kind = 'kde', grid = True)\n",
    "d1['B'].plot(legend = True, kind = 'kde', grid = True)"
   ]
  },
  {
   "cell_type": "markdown",
   "metadata": {},
   "source": [
    "Can see from our kernal density plot that B is much more tightly grouped, A is much more spread out.  "
   ]
  },
  {
   "cell_type": "code",
   "execution_count": 73,
   "metadata": {},
   "outputs": [
    {
     "data": {
      "text/plain": [
       "<matplotlib.axes._subplots.AxesSubplot at 0x220e167b8d0>"
      ]
     },
     "execution_count": 73,
     "metadata": {},
     "output_type": "execute_result"
    },
    {
     "data": {
      "image/png": "[encoded data removed]",
      "text/plain": [
       "<Figure size 432x288 with 1 Axes>"
      ]
     },
     "metadata": {
      "needs_background": "light"
     },
     "output_type": "display_data"
    }
   ],
   "source": [
    "d1.plot(legend = True, kind = 'scatter', y = 'A', x = 'Star', ylim = (15, 24) )"
   ]
  },
  {
   "cell_type": "code",
   "execution_count": 77,
   "metadata": {},
   "outputs": [
    {
     "data": {
      "text/plain": [
       "<matplotlib.axes._subplots.AxesSubplot at 0x220e2ed8400>"
      ]
     },
     "execution_count": 77,
     "metadata": {},
     "output_type": "execute_result"
    },
    {
     "data": {
      "image/png": "[encoded data removed]",
      "text/plain": [
       "<Figure size 432x288 with 1 Axes>"
      ]
     },
     "metadata": {
      "needs_background": "light"
     },
     "output_type": "display_data"
    }
   ],
   "source": [
    "d1.plot(legend = True, kind = 'scatter', y = 'B', x = 'Star', ylim = (15, 24))"
   ]
  },
  {
   "cell_type": "markdown",
   "metadata": {},
   "source": [
    "Ok visually there may be an outlier in B since it's so tightly grouped, and may be an outlier in A but it's so loosly grouped that it's hard to tell for sure graphically."
   ]
  },
  {
   "cell_type": "code",
   "execution_count": 103,
   "metadata": {},
   "outputs": [
    {
     "data": {
      "text/html": [
       "<div>\n",
       "<style scoped>\n",
       "    .dataframe tbody tr th:only-of-type {\n",
       "        vertical-align: middle;\n",
       "    }\n",
       "\n",
       "    .dataframe tbody tr th {\n",
       "        vertical-align: top;\n",
       "    }\n",
       "\n",
       "    .dataframe thead th {\n",
       "        text-align: right;\n",
       "    }\n",
       "</style>\n",
       "<table border=\"1\" class=\"dataframe\">\n",
       "  <thead>\n",
       "    <tr style=\"text-align: right;\">\n",
       "      <th></th>\n",
       "      <th>Star</th>\n",
       "      <th>A</th>\n",
       "      <th>zscore</th>\n",
       "    </tr>\n",
       "  </thead>\n",
       "  <tbody>\n",
       "    <tr>\n",
       "      <th>0</th>\n",
       "      <td>1</td>\n",
       "      <td>23.0</td>\n",
       "      <td>1.619052</td>\n",
       "    </tr>\n",
       "    <tr>\n",
       "      <th>1</th>\n",
       "      <td>2</td>\n",
       "      <td>20.4</td>\n",
       "      <td>0.323810</td>\n",
       "    </tr>\n",
       "    <tr>\n",
       "      <th>2</th>\n",
       "      <td>3</td>\n",
       "      <td>18.9</td>\n",
       "      <td>-0.423444</td>\n",
       "    </tr>\n",
       "    <tr>\n",
       "      <th>3</th>\n",
       "      <td>4</td>\n",
       "      <td>19.7</td>\n",
       "      <td>-0.024908</td>\n",
       "    </tr>\n",
       "    <tr>\n",
       "      <th>4</th>\n",
       "      <td>5</td>\n",
       "      <td>18.5</td>\n",
       "      <td>-0.622712</td>\n",
       "    </tr>\n",
       "    <tr>\n",
       "      <th>5</th>\n",
       "      <td>6</td>\n",
       "      <td>21.5</td>\n",
       "      <td>0.871797</td>\n",
       "    </tr>\n",
       "    <tr>\n",
       "      <th>6</th>\n",
       "      <td>7</td>\n",
       "      <td>16.2</td>\n",
       "      <td>-1.768503</td>\n",
       "    </tr>\n",
       "    <tr>\n",
       "      <th>7</th>\n",
       "      <td>8</td>\n",
       "      <td>18.2</td>\n",
       "      <td>-0.772163</td>\n",
       "    </tr>\n",
       "    <tr>\n",
       "      <th>8</th>\n",
       "      <td>9</td>\n",
       "      <td>21.9</td>\n",
       "      <td>1.071065</td>\n",
       "    </tr>\n",
       "    <tr>\n",
       "      <th>9</th>\n",
       "      <td>10</td>\n",
       "      <td>19.2</td>\n",
       "      <td>-0.273993</td>\n",
       "    </tr>\n",
       "  </tbody>\n",
       "</table>\n",
       "</div>"
      ],
      "text/plain": [
       "   Star     A    zscore\n",
       "0     1  23.0  1.619052\n",
       "1     2  20.4  0.323810\n",
       "2     3  18.9 -0.423444\n",
       "3     4  19.7 -0.024908\n",
       "4     5  18.5 -0.622712\n",
       "5     6  21.5  0.871797\n",
       "6     7  16.2 -1.768503\n",
       "7     8  18.2 -0.772163\n",
       "8     9  21.9  1.071065\n",
       "9    10  19.2 -0.273993"
      ]
     },
     "execution_count": 103,
     "metadata": {},
     "output_type": "execute_result"
    }
   ],
   "source": [
    "#finding z values for A\n",
    "da = d1.drop(['B'], axis = 1)\n",
    "bucket = []\n",
    "for index, row in da.iterrows():\n",
    "    num = (row['A'] - mean1_a)\n",
    "    z = num/std1_a\n",
    "    bucket.append(z)\n",
    "bucket = np.asarray(bucket)\n",
    "da['zscore'] = bucket\n",
    "da"
   ]
  },
  {
   "cell_type": "code",
   "execution_count": 104,
   "metadata": {},
   "outputs": [
    {
     "data": {
      "text/html": [
       "<div>\n",
       "<style scoped>\n",
       "    .dataframe tbody tr th:only-of-type {\n",
       "        vertical-align: middle;\n",
       "    }\n",
       "\n",
       "    .dataframe tbody tr th {\n",
       "        vertical-align: top;\n",
       "    }\n",
       "\n",
       "    .dataframe thead th {\n",
       "        text-align: right;\n",
       "    }\n",
       "</style>\n",
       "<table border=\"1\" class=\"dataframe\">\n",
       "  <thead>\n",
       "    <tr style=\"text-align: right;\">\n",
       "      <th></th>\n",
       "      <th>Star</th>\n",
       "      <th>A</th>\n",
       "      <th>zscore</th>\n",
       "    </tr>\n",
       "  </thead>\n",
       "  <tbody>\n",
       "    <tr>\n",
       "      <th>1</th>\n",
       "      <td>2</td>\n",
       "      <td>20.4</td>\n",
       "      <td>0.323810</td>\n",
       "    </tr>\n",
       "    <tr>\n",
       "      <th>2</th>\n",
       "      <td>3</td>\n",
       "      <td>18.9</td>\n",
       "      <td>-0.423444</td>\n",
       "    </tr>\n",
       "    <tr>\n",
       "      <th>3</th>\n",
       "      <td>4</td>\n",
       "      <td>19.7</td>\n",
       "      <td>-0.024908</td>\n",
       "    </tr>\n",
       "    <tr>\n",
       "      <th>4</th>\n",
       "      <td>5</td>\n",
       "      <td>18.5</td>\n",
       "      <td>-0.622712</td>\n",
       "    </tr>\n",
       "    <tr>\n",
       "      <th>5</th>\n",
       "      <td>6</td>\n",
       "      <td>21.5</td>\n",
       "      <td>0.871797</td>\n",
       "    </tr>\n",
       "    <tr>\n",
       "      <th>7</th>\n",
       "      <td>8</td>\n",
       "      <td>18.2</td>\n",
       "      <td>-0.772163</td>\n",
       "    </tr>\n",
       "    <tr>\n",
       "      <th>8</th>\n",
       "      <td>9</td>\n",
       "      <td>21.9</td>\n",
       "      <td>1.071065</td>\n",
       "    </tr>\n",
       "    <tr>\n",
       "      <th>9</th>\n",
       "      <td>10</td>\n",
       "      <td>19.2</td>\n",
       "      <td>-0.273993</td>\n",
       "    </tr>\n",
       "  </tbody>\n",
       "</table>\n",
       "</div>"
      ],
      "text/plain": [
       "   Star     A    zscore\n",
       "1     2  20.4  0.323810\n",
       "2     3  18.9 -0.423444\n",
       "3     4  19.7 -0.024908\n",
       "4     5  18.5 -0.622712\n",
       "5     6  21.5  0.871797\n",
       "7     8  18.2 -0.772163\n",
       "8     9  21.9  1.071065\n",
       "9    10  19.2 -0.273993"
      ]
     },
     "execution_count": 104,
     "metadata": {},
     "output_type": "execute_result"
    }
   ],
   "source": [
    "#Get rid of ones in A with a abs(z) > 1.5sigma\n",
    "da[(da > 1.5) | (da <-1.5)]   #this was used to check which values fit that criteria\n",
    "da= da.drop([0, 6])\n",
    "da"
   ]
  },
  {
   "cell_type": "code",
   "execution_count": 109,
   "metadata": {},
   "outputs": [
    {
     "data": {
      "text/html": [
       "<div>\n",
       "<style scoped>\n",
       "    .dataframe tbody tr th:only-of-type {\n",
       "        vertical-align: middle;\n",
       "    }\n",
       "\n",
       "    .dataframe tbody tr th {\n",
       "        vertical-align: top;\n",
       "    }\n",
       "\n",
       "    .dataframe thead th {\n",
       "        text-align: right;\n",
       "    }\n",
       "</style>\n",
       "<table border=\"1\" class=\"dataframe\">\n",
       "  <thead>\n",
       "    <tr style=\"text-align: right;\">\n",
       "      <th></th>\n",
       "      <th>Star</th>\n",
       "      <th>B</th>\n",
       "      <th>zscore</th>\n",
       "    </tr>\n",
       "  </thead>\n",
       "  <tbody>\n",
       "    <tr>\n",
       "      <th>0</th>\n",
       "      <td>1</td>\n",
       "      <td>20.5</td>\n",
       "      <td>-0.053632</td>\n",
       "    </tr>\n",
       "    <tr>\n",
       "      <th>1</th>\n",
       "      <td>2</td>\n",
       "      <td>18.8</td>\n",
       "      <td>-1.573213</td>\n",
       "    </tr>\n",
       "    <tr>\n",
       "      <th>2</th>\n",
       "      <td>3</td>\n",
       "      <td>20.0</td>\n",
       "      <td>-0.500568</td>\n",
       "    </tr>\n",
       "    <tr>\n",
       "      <th>3</th>\n",
       "      <td>4</td>\n",
       "      <td>20.2</td>\n",
       "      <td>-0.321794</td>\n",
       "    </tr>\n",
       "    <tr>\n",
       "      <th>4</th>\n",
       "      <td>5</td>\n",
       "      <td>20.6</td>\n",
       "      <td>0.035755</td>\n",
       "    </tr>\n",
       "    <tr>\n",
       "      <th>5</th>\n",
       "      <td>6</td>\n",
       "      <td>20.5</td>\n",
       "      <td>-0.053632</td>\n",
       "    </tr>\n",
       "    <tr>\n",
       "      <th>6</th>\n",
       "      <td>7</td>\n",
       "      <td>22.6</td>\n",
       "      <td>1.823497</td>\n",
       "    </tr>\n",
       "    <tr>\n",
       "      <th>7</th>\n",
       "      <td>8</td>\n",
       "      <td>21.6</td>\n",
       "      <td>0.929626</td>\n",
       "    </tr>\n",
       "    <tr>\n",
       "      <th>8</th>\n",
       "      <td>9</td>\n",
       "      <td>19.3</td>\n",
       "      <td>-1.126278</td>\n",
       "    </tr>\n",
       "    <tr>\n",
       "      <th>9</th>\n",
       "      <td>10</td>\n",
       "      <td>21.5</td>\n",
       "      <td>0.840239</td>\n",
       "    </tr>\n",
       "  </tbody>\n",
       "</table>\n",
       "</div>"
      ],
      "text/plain": [
       "   Star     B    zscore\n",
       "0     1  20.5 -0.053632\n",
       "1     2  18.8 -1.573213\n",
       "2     3  20.0 -0.500568\n",
       "3     4  20.2 -0.321794\n",
       "4     5  20.6  0.035755\n",
       "5     6  20.5 -0.053632\n",
       "6     7  22.6  1.823497\n",
       "7     8  21.6  0.929626\n",
       "8     9  19.3 -1.126278\n",
       "9    10  21.5  0.840239"
      ]
     },
     "execution_count": 109,
     "metadata": {},
     "output_type": "execute_result"
    }
   ],
   "source": [
    "#finding z values for B\n",
    "db = d1.drop(['A'], axis = 1)\n",
    "bucket = []\n",
    "for index, row in db.iterrows():\n",
    "    num = (row['B'] - mean1_b)\n",
    "    z = num/std1_b\n",
    "    bucket.append(z)\n",
    "bucket = np.asarray(bucket)\n",
    "db['zscore'] = bucket\n",
    "db"
   ]
  },
  {
   "cell_type": "code",
   "execution_count": 110,
   "metadata": {},
   "outputs": [
    {
     "data": {
      "text/html": [
       "<div>\n",
       "<style scoped>\n",
       "    .dataframe tbody tr th:only-of-type {\n",
       "        vertical-align: middle;\n",
       "    }\n",
       "\n",
       "    .dataframe tbody tr th {\n",
       "        vertical-align: top;\n",
       "    }\n",
       "\n",
       "    .dataframe thead th {\n",
       "        text-align: right;\n",
       "    }\n",
       "</style>\n",
       "<table border=\"1\" class=\"dataframe\">\n",
       "  <thead>\n",
       "    <tr style=\"text-align: right;\">\n",
       "      <th></th>\n",
       "      <th>Star</th>\n",
       "      <th>B</th>\n",
       "      <th>zscore</th>\n",
       "    </tr>\n",
       "  </thead>\n",
       "  <tbody>\n",
       "    <tr>\n",
       "      <th>0</th>\n",
       "      <td>1</td>\n",
       "      <td>20.5</td>\n",
       "      <td>-0.053632</td>\n",
       "    </tr>\n",
       "    <tr>\n",
       "      <th>2</th>\n",
       "      <td>3</td>\n",
       "      <td>20.0</td>\n",
       "      <td>-0.500568</td>\n",
       "    </tr>\n",
       "    <tr>\n",
       "      <th>3</th>\n",
       "      <td>4</td>\n",
       "      <td>20.2</td>\n",
       "      <td>-0.321794</td>\n",
       "    </tr>\n",
       "    <tr>\n",
       "      <th>4</th>\n",
       "      <td>5</td>\n",
       "      <td>20.6</td>\n",
       "      <td>0.035755</td>\n",
       "    </tr>\n",
       "    <tr>\n",
       "      <th>5</th>\n",
       "      <td>6</td>\n",
       "      <td>20.5</td>\n",
       "      <td>-0.053632</td>\n",
       "    </tr>\n",
       "    <tr>\n",
       "      <th>7</th>\n",
       "      <td>8</td>\n",
       "      <td>21.6</td>\n",
       "      <td>0.929626</td>\n",
       "    </tr>\n",
       "    <tr>\n",
       "      <th>8</th>\n",
       "      <td>9</td>\n",
       "      <td>19.3</td>\n",
       "      <td>-1.126278</td>\n",
       "    </tr>\n",
       "    <tr>\n",
       "      <th>9</th>\n",
       "      <td>10</td>\n",
       "      <td>21.5</td>\n",
       "      <td>0.840239</td>\n",
       "    </tr>\n",
       "  </tbody>\n",
       "</table>\n",
       "</div>"
      ],
      "text/plain": [
       "   Star     B    zscore\n",
       "0     1  20.5 -0.053632\n",
       "2     3  20.0 -0.500568\n",
       "3     4  20.2 -0.321794\n",
       "4     5  20.6  0.035755\n",
       "5     6  20.5 -0.053632\n",
       "7     8  21.6  0.929626\n",
       "8     9  19.3 -1.126278\n",
       "9    10  21.5  0.840239"
      ]
     },
     "execution_count": 110,
     "metadata": {},
     "output_type": "execute_result"
    }
   ],
   "source": [
    "#Get rid of ones in B with a abs(z) > 1.5sigma\n",
    "db[(db > 1.5) | (db <-1.5)]   #this was used to check which values fit that criteria\n",
    "db= db.drop([1, 6])\n",
    "db"
   ]
  },
  {
   "cell_type": "markdown",
   "metadata": {},
   "source": [
    "# Redo First Part\n",
    "We've removed the data we considered to be outliers (being 1.5sigma or more from the mean of their respective data sets), now we can re-do our calculations from the start."
   ]
  },
  {
   "cell_type": "code",
   "execution_count": 117,
   "metadata": {},
   "outputs": [
    {
     "name": "stdout",
     "output_type": "stream",
     "text": [
      "19.7875 1.3674141393782018 0.4834539053223466\n"
     ]
    }
   ],
   "source": [
    "mean2_a = da['A'].mean()\n",
    "std2_a = da['A'].std()\n",
    "sdom2_a = std2_a/np.sqrt(da['A'].shape[0])\n",
    "print(mean2_a, std2_a, sdom2_a)"
   ]
  },
  {
   "cell_type": "code",
   "execution_count": 118,
   "metadata": {},
   "outputs": [
    {
     "name": "stdout",
     "output_type": "stream",
     "text": [
      "20.525 0.7554563426924722 0.2670941514041177\n"
     ]
    }
   ],
   "source": [
    "mean2_b = db['B'].mean()\n",
    "std2_b = db['B'].std()\n",
    "sdom2_b = std2_b/np.sqrt(db['B'].shape[0])\n",
    "print(mean2_b, std2_b, sdom2_b)"
   ]
  },
  {
   "cell_type": "code",
   "execution_count": 120,
   "metadata": {},
   "outputs": [
    {
     "name": "stdout",
     "output_type": "stream",
     "text": [
      "0.03750000000000142 -0.035000000000003695 -0.6399334748741092 -0.36327309535568963\n"
     ]
    }
   ],
   "source": [
    "#check the difference that made\n",
    "d_meana = mean2_a - mean1_a\n",
    "d_meanb = mean2_b - mean1_b\n",
    "d_stda = std2_a - std1_a\n",
    "d_stdb = std2_b - std1_b\n",
    "d_sdoma = sdom2_a - sdom1_a\n",
    "d_sdomb = sdom2_b - sdom1_b\n",
    "print(d_meana, d_meanb, d_stda, d_stdb)\n",
    "#Can see these are hardly significant changes in means, but large changes in std's"
   ]
  },
  {
   "cell_type": "code",
   "execution_count": 121,
   "metadata": {},
   "outputs": [
    {
     "name": "stdout",
     "output_type": "stream",
     "text": [
      "0.5348104288033617 1.7521902377972458\n"
     ]
    }
   ],
   "source": [
    "w2_a = 1/std2_a**2\n",
    "w2_b = 1/std2_b**2\n",
    "print(w2_a, w2_b)"
   ]
  },
  {
   "cell_type": "code",
   "execution_count": 122,
   "metadata": {},
   "outputs": [
    {
     "name": "stdout",
     "output_type": "stream",
     "text": [
      "20.352537133240656 0.6612517804526855\n"
     ]
    }
   ],
   "source": [
    "x2_wav = ((w2_a * mean2_a) + (w2_b * mean2_b))/(w2_a + w2_b)\n",
    "sigma2_wav = 1/np.sqrt(w2_a + w2_b)\n",
    "print(x2_wav, sigma2_wav)"
   ]
  },
  {
   "cell_type": "code",
   "execution_count": 124,
   "metadata": {},
   "outputs": [
    {
     "name": "stdout",
     "output_type": "stream",
     "text": [
      "20.36803635675062 0.9772137488272323\n"
     ]
    }
   ],
   "source": [
    "print(x1_wav, sigma1_wav) #can see that while the mean didn't move much, the std lowered "
   ]
  },
  {
   "cell_type": "code",
   "execution_count": null,
   "metadata": {},
   "outputs": [],
   "source": []
  }
 ],
 "metadata": {
  "kernelspec": {
   "display_name": "Python 3",
   "language": "python",
   "name": "python3"
  },
  "language_info": {
   "codemirror_mode": {
    "name": "ipython",
    "version": 3
   },
   "file_extension": ".py",
   "mimetype": "text/x-python",
   "name": "python",
   "nbconvert_exporter": "python",
   "pygments_lexer": "ipython3",
   "version": "3.7.1"
  }
 },
 "nbformat": 4,
 "nbformat_minor": 2
}
