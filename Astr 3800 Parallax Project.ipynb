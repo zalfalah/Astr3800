{
 "cells": [
  {
   "cell_type": "markdown",
   "metadata": {},
   "source": [
    "1) If the cluster is 100 pc away, the physical width of the cluster is 0.87267 (pc), work shown on turned-in paper."
   ]
  },
  {
   "cell_type": "code",
   "execution_count": 96,
   "metadata": {},
   "outputs": [],
   "source": [
    "import numpy as np\n",
    "import matplotlib.pyplot as plt\n",
    "import seaborn as sns"
   ]
  },
  {
   "cell_type": "code",
   "execution_count": 97,
   "metadata": {},
   "outputs": [
    {
     "name": "stdout",
     "output_type": "stream",
     "text": [
      "100.00952973472914\n"
     ]
    }
   ],
   "source": [
    "#Question 2)\n",
    "n_stars = 100 #number of stars\n",
    "d_mean = 100 #mean distance in pc\n",
    "d_std = 0.87267 #std of distances in pc\n",
    "star_gen = np.random.uniform(d_mean-(d_std/2), d_mean+(d_std/2)+10**-50, n_stars) #add ~0 to make rhs inclusive for rand.uniform()\n",
    "star_gen #our 'real distances'\n",
    "check = star_gen.mean()\n",
    "print(check)\n",
    "#looks good!"
   ]
  },
  {
   "cell_type": "code",
   "execution_count": 98,
   "metadata": {},
   "outputs": [
    {
     "data": {
      "image/png": "[encoded data removed]",
      "text/plain": [
       "<Figure size 432x288 with 1 Axes>"
      ]
     },
     "metadata": {
      "needs_background": "light"
     },
     "output_type": "display_data"
    }
   ],
   "source": [
    "ax = plt.hist(star_gen, bins = 25)  #histogram plot of our actual distances"
   ]
  },
  {
   "cell_type": "code",
   "execution_count": 99,
   "metadata": {},
   "outputs": [
    {
     "data": {
      "text/plain": [
       "0.00999911166759516"
      ]
     },
     "execution_count": 99,
     "metadata": {},
     "output_type": "execute_result"
    }
   ],
   "source": [
    "# p = 1/d \n",
    "p = 1/star_gen #our 'real' parallaxes in units of arcsec\n",
    "p.mean()\n",
    "#should be ~0.01, looks right!"
   ]
  },
  {
   "cell_type": "code",
   "execution_count": 100,
   "metadata": {},
   "outputs": [],
   "source": [
    "obs_par_2 = np.random.normal(p, 0.002)  #'observed' parallax with 20% error"
   ]
  },
  {
   "cell_type": "code",
   "execution_count": 101,
   "metadata": {},
   "outputs": [],
   "source": [
    "obs_dist_2 = 1/obs_par"
   ]
  },
  {
   "cell_type": "code",
   "execution_count": 102,
   "metadata": {},
   "outputs": [
    {
     "name": "stdout",
     "output_type": "stream",
     "text": [
      "102.6229852495623 24.982530458886526\n"
     ]
    }
   ],
   "source": [
    "print(obs_dist_2.mean(), obs_dist_2.std())"
   ]
  },
  {
   "cell_type": "code",
   "execution_count": 103,
   "metadata": {},
   "outputs": [
    {
     "data": {
      "image/png": "[encoded data removed]",
      "text/plain": [
       "<Figure size 432x288 with 1 Axes>"
      ]
     },
     "metadata": {
      "needs_background": "light"
     },
     "output_type": "display_data"
    }
   ],
   "source": [
    "ax = plt.hist(obs_dist, bins = 25) #'observed' distances plotted, 20% error"
   ]
  },
  {
   "cell_type": "code",
   "execution_count": 104,
   "metadata": {},
   "outputs": [],
   "source": [
    "obs_par_4 = np.random.normal(p, 0.004) #'observed' parallax with 40% error"
   ]
  },
  {
   "cell_type": "code",
   "execution_count": 105,
   "metadata": {},
   "outputs": [],
   "source": [
    "obs_dist_4 = 1/ obs_par_4"
   ]
  },
  {
   "cell_type": "code",
   "execution_count": 106,
   "metadata": {},
   "outputs": [
    {
     "name": "stdout",
     "output_type": "stream",
     "text": [
      "104.08305198016329 45.50533000526553\n"
     ]
    }
   ],
   "source": [
    "print(obs_dist_4.mean(), obs_dist_4.std())"
   ]
  },
  {
   "cell_type": "code",
   "execution_count": 107,
   "metadata": {},
   "outputs": [
    {
     "data": {
      "image/png": "[encoded data removed]",
      "text/plain": [
       "<Figure size 432x288 with 1 Axes>"
      ]
     },
     "metadata": {
      "needs_background": "light"
     },
     "output_type": "display_data"
    }
   ],
   "source": [
    "ax = plt.hist(obs_dist_4, bins = 25) #'observed' distances plotted, 40% error"
   ]
  },
  {
   "cell_type": "code",
   "execution_count": 108,
   "metadata": {},
   "outputs": [],
   "source": [
    "obs_par_1 = np.random.normal(p, 0.001) #'observed' parallax with 10% error"
   ]
  },
  {
   "cell_type": "code",
   "execution_count": 109,
   "metadata": {},
   "outputs": [],
   "source": [
    "obs_dist_1 = 1/obs_par_1"
   ]
  },
  {
   "cell_type": "code",
   "execution_count": 110,
   "metadata": {},
   "outputs": [
    {
     "name": "stdout",
     "output_type": "stream",
     "text": [
      "100.18765410310041 9.728675477674503\n"
     ]
    }
   ],
   "source": [
    "print(obs_dist_1.mean(), obs_dist_1.std())"
   ]
  },
  {
   "cell_type": "code",
   "execution_count": 111,
   "metadata": {},
   "outputs": [
    {
     "data": {
      "image/png": "[encoded data removed]",
      "text/plain": [
       "<Figure size 432x288 with 1 Axes>"
      ]
     },
     "metadata": {
      "needs_background": "light"
     },
     "output_type": "display_data"
    }
   ],
   "source": [
    "ax = plt.hist(obs_dist_1, bins = 25) #'observed' distances plotted, 10% error"
   ]
  },
  {
   "cell_type": "code",
   "execution_count": 112,
   "metadata": {},
   "outputs": [
    {
     "name": "stdout",
     "output_type": "stream",
     "text": [
      "9.728675477674503 24.982530458886526 45.50533000526553\n"
     ]
    }
   ],
   "source": [
    "print(obs_dist_1.std(), obs_dist_2.std(), obs_dist_4.std())"
   ]
  },
  {
   "cell_type": "markdown",
   "metadata": {},
   "source": [
    "Printed above are, in order, the standard deviations of our distance measurements with 10%, 20%, and 40% gaussian error on our parallax measurements.  We can see that the standard errors roughly double for every doubling of our parallax measurement errors."
   ]
  }
 ],
 "metadata": {
  "kernelspec": {
   "display_name": "Python 3",
   "language": "python",
   "name": "python3"
  },
  "language_info": {
   "codemirror_mode": {
    "name": "ipython",
    "version": 3
   },
   "file_extension": ".py",
   "mimetype": "text/x-python",
   "name": "python",
   "nbconvert_exporter": "python",
   "pygments_lexer": "ipython3",
   "version": "3.7.1"
  }
 },
 "nbformat": 4,
 "nbformat_minor": 2
}
