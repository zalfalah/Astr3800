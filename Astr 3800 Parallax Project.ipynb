{
 "cells": [
  {
   "cell_type": "markdown",
   "metadata": {},
   "source": [
    "1) If the cluster is 100 pc away, the physical width of the cluster is (pc)"
   ]
  },
  {
   "cell_type": "code",
   "execution_count": 37,
   "metadata": {},
   "outputs": [],
   "source": [
    "import numpy as np\n",
    "import matplotlib.pyplot as plt\n",
    "import seaborn as sns"
   ]
  },
  {
   "cell_type": "code",
   "execution_count": 38,
   "metadata": {},
   "outputs": [
    {
     "name": "stdout",
     "output_type": "stream",
     "text": [
      "99.947127230751\n"
     ]
    }
   ],
   "source": [
    "#Question 2)\n",
    "n_stars = 100 #number of stars\n",
    "d_mean = 100 #mean distance in pc\n",
    "d_std = 0.436 #std of distances in pc\n",
    "star_gen = np.random.normal(d_mean, d_std, n_stars)\n",
    "star_gen #our 'real distances'\n",
    "check = star_gen.mean()\n",
    "print(check)\n",
    "#looks good!"
   ]
  },
  {
   "cell_type": "code",
   "execution_count": 39,
   "metadata": {},
   "outputs": [
    {
     "data": {
      "text/plain": [
       "0.010005510441587697"
      ]
     },
     "execution_count": 39,
     "metadata": {},
     "output_type": "execute_result"
    }
   ],
   "source": [
    "# p = 1/d \n",
    "p = 1/star_gen #our 'real' parallaxes in units of arcsec\n",
    "p.mean()"
   ]
  },
  {
   "cell_type": "code",
   "execution_count": 40,
   "metadata": {},
   "outputs": [],
   "source": [
    "obs_par = np.random.normal(p, 0.002)  #'observed' parallax with 20% error"
   ]
  },
  {
   "cell_type": "code",
   "execution_count": 41,
   "metadata": {},
   "outputs": [],
   "source": [
    "obs_dist = 1/obs_par"
   ]
  },
  {
   "cell_type": "code",
   "execution_count": 42,
   "metadata": {},
   "outputs": [
    {
     "name": "stdout",
     "output_type": "stream",
     "text": [
      "103.57212455181713 26.869114536282353\n"
     ]
    }
   ],
   "source": [
    "print(obs_dist.mean(), obs_dist.std())"
   ]
  },
  {
   "cell_type": "code",
   "execution_count": 43,
   "metadata": {},
   "outputs": [],
   "source": [
    "obs_par_4 = np.random.normal(p, 0.004) #'observed' parallax with 40% error"
   ]
  },
  {
   "cell_type": "code",
   "execution_count": 44,
   "metadata": {},
   "outputs": [],
   "source": [
    "obs_dist_4 = 1/ obs_par_4"
   ]
  },
  {
   "cell_type": "code",
   "execution_count": 45,
   "metadata": {},
   "outputs": [
    {
     "name": "stdout",
     "output_type": "stream",
     "text": [
      "123.21267456415224 292.8392982351079\n"
     ]
    }
   ],
   "source": [
    "print(obs_dist_4.mean(), obs_dist_4.std())"
   ]
  },
  {
   "cell_type": "code",
   "execution_count": 46,
   "metadata": {},
   "outputs": [],
   "source": [
    "obs_par_1 = np.random.normal(p, 0.001)"
   ]
  },
  {
   "cell_type": "code",
   "execution_count": 47,
   "metadata": {},
   "outputs": [],
   "source": [
    "obs_dist_1 = 1/obs_par_1"
   ]
  },
  {
   "cell_type": "code",
   "execution_count": 48,
   "metadata": {},
   "outputs": [
    {
     "name": "stdout",
     "output_type": "stream",
     "text": [
      "103.2066172603554 10.139306912807886\n"
     ]
    }
   ],
   "source": [
    "print(obs_dist_1.mean(), obs_dist_1.std())"
   ]
  },
  {
   "cell_type": "code",
   "execution_count": null,
   "metadata": {},
   "outputs": [],
   "source": []
  }
 ],
 "metadata": {
  "kernelspec": {
   "display_name": "Python 3",
   "language": "python",
   "name": "python3"
  },
  "language_info": {
   "codemirror_mode": {
    "name": "ipython",
    "version": 3
   },
   "file_extension": ".py",
   "mimetype": "text/x-python",
   "name": "python",
   "nbconvert_exporter": "python",
   "pygments_lexer": "ipython3",
   "version": "3.7.1"
  }
 },
 "nbformat": 4,
 "nbformat_minor": 2
}
